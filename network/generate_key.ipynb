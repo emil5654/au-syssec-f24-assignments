{
 "cells": [
  {
   "cell_type": "code",
   "execution_count": 1,
   "metadata": {},
   "outputs": [
    {
     "name": "stdout",
     "output_type": "stream",
     "text": [
      "Symmetric Key: 8efbcfc8668336a12c7fd5f81e7bc276fcf46d87a686bd9605882307a99ff807\n"
     ]
    }
   ],
   "source": [
    "import secrets\n",
    "\n",
    "def generate_symmetric_key(key_length):\n",
    "    # Generate a random key of the specified length in bytes\n",
    "    key_bytes = secrets.token_bytes(key_length // 8)\n",
    "    return key_bytes\n",
    "\n",
    "# Example: Generate a 256-bit (32-byte) symmetric key\n",
    "key_length = 256\n",
    "symmetric_key = generate_symmetric_key(key_length)\n",
    "print(\"Symmetric Key:\", symmetric_key.hex())"
   ]
  },
  {
   "cell_type": "code",
   "execution_count": null,
   "metadata": {},
   "outputs": [],
   "source": []
  }
 ],
 "metadata": {
  "kernelspec": {
   "display_name": "base",
   "language": "python",
   "name": "python3"
  },
  "language_info": {
   "codemirror_mode": {
    "name": "ipython",
    "version": 3
   },
   "file_extension": ".py",
   "mimetype": "text/x-python",
   "name": "python",
   "nbconvert_exporter": "python",
   "pygments_lexer": "ipython3",
   "version": "3.9.17"
  }
 },
 "nbformat": 4,
 "nbformat_minor": 2
}
